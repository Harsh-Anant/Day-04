{
 "cells": [
  {
   "cell_type": "markdown",
   "metadata": {},
   "source": [
    "___1.___ ___Operations on complex numbers.___"
   ]
  },
  {
   "cell_type": "code",
   "execution_count": 2,
   "metadata": {},
   "outputs": [
    {
     "name": "stdout",
     "output_type": "stream",
     "text": [
      "Addition of (1+2j) and (2-2j) : (3+0j)\n",
      "Substraction of (1+2j) and (2-2j) : (-1+4j)\n",
      "Multiplication of (1+2j) and (2-2j) : (6+2j)\n",
      "Division of (1+2j) and (2-2j) : (-0.25+0.75j)\n",
      "Modulo of (1+2j) and (2-2j) is not possible\n",
      "Floor Division of (1+2j) and (2-2j) is not possible\n"
     ]
    }
   ],
   "source": [
    "a=1+2j\n",
    "b=2-2j\n",
    "print(\"Addition of\",a,\"and\",b,\":\",a+b)\n",
    "print(\"Substraction of\",a,\"and\",b,\":\",a-b)\n",
    "print(\"Multiplication of\",a,\"and\",b,\":\",a*b)\n",
    "print(\"Division of\",a,\"and\",b,\":\",a/b)\n",
    "print(\"Modulo of\",a,\"and\",b,\"is not possible\")\n",
    "print(\"Floor Division of\",a,\"and\",b,\"is not possible\")"
   ]
  },
  {
   "cell_type": "markdown",
   "metadata": {},
   "source": [
    "___2.___ __About Range Function.__\n",
    "\n",
    "Syantax: range(start,stop,step), it returns the sequence of numbers starting from 'start' number to the 'stop' number minus 1 by taking the number of 'step' in between the numbers in the sequence where by default the value of step is 1. \n",
    "\n",
    "Different forms with examples:\n",
    "\n",
    "1. range with only __stop__ value:<br>\n",
    "stop=3<br>\n",
    "for i in range(stop):<br>\n",
    "    print(i)<br>\n",
    "__Output__ will be:<br>\n",
    "0<br>\n",
    "1<br>\n",
    "2<br>\n",
    "Here start value is not mentioned so the sequence will begin from 0.<br>\n",
    "\n",
    "2. range with only __start and stop__ values:<br>\n",
    "start=1<br>\n",
    "stop=5<br>\n",
    "for i in range(start,stop):<br>\n",
    "     print(i)<br>\n",
    "__Output__ will be<br>\n",
    "1<br>\n",
    "2<br>\n",
    "3<br>\n",
    "4<br>\n",
    "Here start value is mentioned so the sequence will begin from start value ,here i.e 1.<br>\n",
    "\n",
    "3. range with all __start, stop and step__ values.<br>\n",
    "start=1<br>\n",
    "stop=6<br>\n",
    "step=2<br>\n",
    "for i in range(start,stop,step):<br>\n",
    "     print(i)<br>\n",
    "__Output__ will be<br>\n",
    "1<br>\n",
    "3<br>\n",
    "5<br>\n",
    "Here the sequence will begin from start and go to stop-1 by taking mentioned steps in between the sequence, here i.e 2.<br>"
   ]
  },
  {
   "cell_type": "code",
   "execution_count": 3,
   "metadata": {},
   "outputs": [
    {
     "name": "stdout",
     "output_type": "stream",
     "text": [
      "0\n",
      "1\n",
      "2\n"
     ]
    }
   ],
   "source": [
    "#range with only stop value:\n",
    "stop=3\n",
    "for i in range(stop):\n",
    "    print(i)"
   ]
  },
  {
   "cell_type": "code",
   "execution_count": 4,
   "metadata": {},
   "outputs": [
    {
     "name": "stdout",
     "output_type": "stream",
     "text": [
      "1\n",
      "2\n",
      "3\n",
      "4\n"
     ]
    }
   ],
   "source": [
    "#range with only start and stop values:\n",
    "start=1\n",
    "stop=5\n",
    "for i in range(start,stop):\n",
    "    print(i)"
   ]
  },
  {
   "cell_type": "code",
   "execution_count": 5,
   "metadata": {},
   "outputs": [
    {
     "name": "stdout",
     "output_type": "stream",
     "text": [
      "1\n",
      "3\n",
      "5\n"
     ]
    }
   ],
   "source": [
    "#range with all start, stop and step values.\n",
    "start=1\n",
    "stop=6\n",
    "step=2\n",
    "for i in range(start,stop,step):\n",
    "    print(i)"
   ]
  },
  {
   "cell_type": "markdown",
   "metadata": {},
   "source": [
    "___3.___ __Substraction of two numbers.__"
   ]
  },
  {
   "cell_type": "code",
   "execution_count": 6,
   "metadata": {},
   "outputs": [
    {
     "name": "stdout",
     "output_type": "stream",
     "text": [
      "Division of 122 and 127 : 1.040983606557377\n"
     ]
    }
   ],
   "source": [
    "a=122\n",
    "b=127\n",
    "if (b-a)>25:\n",
    "    print(\"Multiplication of\",a,\"and\",b,\":\",b*a)\n",
    "else:\n",
    "    print(\"Division of\",a,\"and\",b,\":\",b/a)"
   ]
  },
  {
   "cell_type": "markdown",
   "metadata": {},
   "source": [
    "___4.___ __Find the elements in the list of 10 integers which are divisible by 2 and if divisible then print square of that number minus 2.__"
   ]
  },
  {
   "cell_type": "code",
   "execution_count": 7,
   "metadata": {},
   "outputs": [
    {
     "name": "stdout",
     "output_type": "stream",
     "text": [
      "For 10 : 98\n",
      "For 20 : 398\n",
      "For 40 : 1598\n",
      "For 56 : 3134\n",
      "For 98 : 9602\n"
     ]
    }
   ],
   "source": [
    "l=[10,11,20,31,40,121,56,67,98,89]\n",
    "for i in l:\n",
    "    if i%2==0:\n",
    "        print(\"For\",i,\":\",i**2-2)"
   ]
  },
  {
   "cell_type": "markdown",
   "metadata": {},
   "source": [
    "___5.___ __Print the elements in the list which are greater than 7 when that number is divided 2.__"
   ]
  },
  {
   "cell_type": "code",
   "execution_count": 8,
   "metadata": {},
   "outputs": [
    {
     "name": "stdout",
     "output_type": "stream",
     "text": [
      "20\n",
      "31\n",
      "40\n",
      "121\n",
      "56\n",
      "67\n",
      "98\n",
      "89\n"
     ]
    }
   ],
   "source": [
    "l=[6,4,20,31,40,121,56,67,98,89]\n",
    "for i in l:\n",
    "    if (i/2)>7:\n",
    "        print(i)"
   ]
  }
 ],
 "metadata": {
  "kernelspec": {
   "display_name": "Python 3",
   "language": "python",
   "name": "python3"
  },
  "language_info": {
   "codemirror_mode": {
    "name": "ipython",
    "version": 3
   },
   "file_extension": ".py",
   "mimetype": "text/x-python",
   "name": "python",
   "nbconvert_exporter": "python",
   "pygments_lexer": "ipython3",
   "version": "3.5.6"
  }
 },
 "nbformat": 4,
 "nbformat_minor": 2
}
